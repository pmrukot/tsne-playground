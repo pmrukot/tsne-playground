{
 "cells": [
  {
   "cell_type": "code",
   "execution_count": 70,
   "metadata": {
    "collapsed": false
   },
   "outputs": [],
   "source": [
    "%matplotlib inline\n",
    "import json\n",
    "import pandas as pd\n",
    "import numpy as np\n",
    "from sklearn.manifold import TSNE\n",
    "from pprint import pprint\n",
    "\n",
    "data1 = json.load(open('berlin52_2018-04-13T09_21_17.705Z.json'))\n",
    "data2 = json.load(open('berlin52_2018-04-18T20_36_44.966Z.json'))\n",
    "data = data1 + data2\n",
    "\n",
    "data = list(map(lambda x: x['path'], data))\n",
    "data = [list(map(lambda x: x['currentNodeId'], d)) for d in data]\n",
    "\n",
    "df = pd.DataFrame(data).fillna(0).astype(int)\n",
    "indices = df.index[df[6] == 0].tolist()"
   ]
  },
  {
   "cell_type": "code",
   "execution_count": 106,
   "metadata": {
    "collapsed": false
   },
   "outputs": [
    {
     "data": {
      "text/plain": [
       "<matplotlib.axes._subplots.AxesSubplot at 0x11c16a2b0>"
      ]
     },
     "execution_count": 106,
     "metadata": {},
     "output_type": "execute_result"
    },
    {
     "data": {
      "image/png": "[encoded data removed]",
      "text/plain": [
       "<Figure size 432x288 with 1 Axes>"
      ]
     },
     "metadata": {},
     "output_type": "display_data"
    }
   ],
   "source": [
    "colormap = [\"#444444\" for i in range(len(data))]\n",
    "for index in indices:\n",
    "    colormap[index] = \"#AAAAAA\"\n",
    "colormap = np.array(colormap)\n",
    "output = TSNE(n_components=2, perplexity=10).fit_transform(df)\n",
    "pd.DataFrame(output).plot.scatter(x=0, y=1, c=colormap)"
   ]
  },
  {
   "cell_type": "code",
   "execution_count": null,
   "metadata": {
    "collapsed": true
   },
   "outputs": [],
   "source": []
  },
  {
   "cell_type": "code",
   "execution_count": null,
   "metadata": {
    "collapsed": true
   },
   "outputs": [],
   "source": []
  }
 ],
 "metadata": {
  "kernelspec": {
   "display_name": "Python 3",
   "language": "python",
   "name": "python3"
  },
  "language_info": {
   "codemirror_mode": {
    "name": "ipython",
    "version": 3
   },
   "file_extension": ".py",
   "mimetype": "text/x-python",
   "name": "python",
   "nbconvert_exporter": "python",
   "pygments_lexer": "ipython3",
   "version": "3.6.4"
  }
 },
 "nbformat": 4,
 "nbformat_minor": 1
}
